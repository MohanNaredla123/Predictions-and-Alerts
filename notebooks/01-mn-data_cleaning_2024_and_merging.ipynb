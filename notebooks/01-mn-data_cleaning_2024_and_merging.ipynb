{
 "cells": [
  {
   "cell_type": "code",
   "execution_count": 8,
   "id": "98866f32",
   "metadata": {},
   "outputs": [],
   "source": [
    "import warnings\n",
    "warnings.simplefilter(action='ignore', category=FutureWarning)\n",
    "\n",
    "import pandas as pd\n",
    "import sys\n",
    "import os\n",
    "\n",
    "from CAD.config import Config"
   ]
  },
  {
   "cell_type": "code",
   "execution_count": 4,
   "id": "ceb25ebe",
   "metadata": {},
   "outputs": [],
   "source": [
    "cfg = Config()\n",
    "MIN_YEAR, MAX_YEAR = cfg.getMinMaxYear()\n",
    "\n",
    "raw_yearly_df: dict[int, pd.DataFrame] = {}\n",
    "for yr in range(MIN_YEAR, MAX_YEAR + 1):\n",
    "    path = cfg.RAW_DATA_DIR / f\"{yr}_attendance_data.xlsx\"\n",
    "    raw_yearly_df[yr] = pd.read_excel(path, engine=\"openpyxl\")"
   ]
  },
  {
   "cell_type": "code",
   "execution_count": 9,
   "id": "c5fe4ed0",
   "metadata": {},
   "outputs": [],
   "source": [
    "col_rename_map = {\n",
    "    \"TOTAL_DAYS_UNEXCUSED_ABSENT\": \"Total_Days_Unexcused_Absent\",\n",
    "    \"TOTAL_DAYS_ENROLLED\": \"Total_Days_Enrolled\",\n",
    "    \"TOTAL_DAYS_PRESENT\": \"Total_Days_Present\",\n",
    "}\n",
    "raw_yearly_df[2024] = raw_yearly_df[2024].rename(col_rename_map, axis=1)\n",
    "\n",
    "ethnicity_map = {\n",
    "    \"Asian\": \"A\",\n",
    "    \"Black or African American\": \"B\",\n",
    "    \"Caucasian\": \"C\",\n",
    "    \"American Indian/Alaskan Native\": \"I\",\n",
    "    \"Native Hawaiian or Other Pacific Islander\": \"P\",\n",
    "    \"Hispanic\": \"H\",\n",
    "    \"Multi-Racial\": \"MR\",\n",
    "}\n",
    "\n",
    "recoded_2024 = raw_yearly_df[2024].copy()\n",
    "recoded_2024[\"ETHNIC_CODE\"] = recoded_2024[\"ETHNIC_CODE\"].replace(ethnicity_map)\n",
    "recoded_2024[\"ECONOMIC_CODE\"].replace({0: \"N\", 1: \"F\"}, inplace=True)\n",
    "recoded_2024[\"SPECIAL_ED_CODE\"].replace({0: \"N\", 1: \"Y\"}, inplace=True)\n",
    "recoded_2024[\"HISPANIC_IND\"].replace({0: \"No\", 1: \"Yes\"}, inplace=True)\n",
    "recoded_2024[\"STUDENT_GENDER\"].replace({\"M\": \"Male\", \"F\": \"Female\"}, inplace=True)\n",
    "recoded_2024[\"STUDENT_GRADE_LEVEL\"].replace({\"KF\": 0, \"PK\": -1}, inplace=True)\n",
    "recoded_2024[\"STUDENT_GRADE_LEVEL\"] = recoded_2024[\"STUDENT_GRADE_LEVEL\"].astype(int)"
   ]
  },
  {
   "cell_type": "code",
   "execution_count": null,
   "id": "5a29a8ef",
   "metadata": {},
   "outputs": [],
   "source": [
    "dup_2024 = recoded_2024[recoded_2024[\"STUDENT_ID\"].duplicated(keep=False)].copy()\n",
    "\n",
    "bucket_grade_ids = []              \n",
    "bucket_school_ids = []              \n",
    "bucket_grade_school_ids = []        \n",
    "bucket_other_ids = []              \n",
    "\n",
    "for sid, group in dup_2024.groupby(\"STUDENT_ID\"):\n",
    "    if group[\"STUDENT_GRADE_LEVEL\"].nunique() > 1 and group[\"SCHOOL_NAME\"].nunique() == 1:\n",
    "        bucket_grade_ids.append(sid)\n",
    "    elif group[\"SCHOOL_NAME\"].nunique() > 1 and group[\"STUDENT_GRADE_LEVEL\"].nunique() == 1:\n",
    "        bucket_school_ids.append(sid)\n",
    "    elif group[\"SCHOOL_NAME\"].nunique() > 1 and group[\"STUDENT_GRADE_LEVEL\"].nunique() > 1:\n",
    "        bucket_grade_school_ids.append(sid)\n",
    "    else:\n",
    "        bucket_other_ids.append(sid)\n",
    "\n",
    "grade_df = dup_2024[dup_2024[\"STUDENT_ID\"].isin(bucket_grade_ids)]\n",
    "school_df = dup_2024[dup_2024[\"STUDENT_ID\"].isin(bucket_school_ids)]\n",
    "grade_school_df = dup_2024[dup_2024[\"STUDENT_ID\"].isin(bucket_grade_school_ids)]\n",
    "other_df = dup_2024[dup_2024[\"STUDENT_ID\"].isin(bucket_other_ids)]\n",
    "\n",
    "\n",
    "prev_year_df = raw_yearly_df[2023].copy()\n",
    "prev_year_df[\"STUDENT_GRADE_LEVEL\"].replace({\"KF\": 0, \"PK\": -1}, inplace=True)\n",
    "prev_unique = prev_year_df.drop_duplicates(\"STUDENT_ID\", keep=\"first\")\n",
    "\n",
    "merge_df = grade_df.merge(prev_unique[[\"STUDENT_ID\", \"STUDENT_GRADE_LEVEL\"]], on=\"STUDENT_ID\", how=\"left\", suffixes=(\"\", \"_prev\"))\n",
    "merge_df[\"expected_grade\"] = merge_df[\"STUDENT_GRADE_LEVEL_prev\"] + 1\n",
    "merge_df[\"has_prev\"] = merge_df[\"STUDENT_GRADE_LEVEL_prev\"].notna()\n",
    "\n",
    "keepers_df = merge_df[(merge_df[\"STUDENT_GRADE_LEVEL\"] == merge_df[\"expected_grade\"]) | (~merge_df[\"has_prev\"] & (merge_df[\"STUDENT_GRADE_LEVEL\"] == -1))]\n",
    "keepers_df = keepers_df[grade_df.columns]\n",
    "\n",
    "flagged_df = merge_df.drop(index=keepers_df.index)\n",
    "flagged_df = flagged_df.loc[flagged_df.groupby(\"STUDENT_ID\")[\"STUDENT_GRADE_LEVEL\"].idxmax()]\n",
    "flagged_df = flagged_df[grade_df.columns]\n",
    "\n",
    "\n",
    "ids_to_drop = bucket_grade_ids + bucket_school_ids + bucket_grade_school_ids + bucket_other_ids\n",
    "clean_2024 = recoded_2024[~recoded_2024[\"STUDENT_ID\"].isin(ids_to_drop)].copy()\n",
    "\n",
    "clean_2024 = pd.concat([\n",
    "    clean_2024,\n",
    "    other_df.drop_duplicates(\"STUDENT_ID\", keep=\"first\"),         \n",
    "    school_df.drop_duplicates([\"STUDENT_ID\", \"SCHOOL_NAME\"], keep=\"last\").fillna(\"C\"),\n",
    "    keepers_df,\n",
    "    flagged_df,\n",
    "    grade_school_df.drop_duplicates(\"STUDENT_ID\", keep=\"last\"),\n",
    "], ignore_index=True)"
   ]
  },
  {
   "cell_type": "code",
   "execution_count": null,
   "id": "65f37c0f",
   "metadata": {},
   "outputs": [],
   "source": [
    "lookup_gender = (\n",
    "    prev_year_df.dropna(subset=[\"STUDENT_GENDER\"])\n",
    "    .groupby([\"SCHOOL_NAME\", \"STUDENT_ID\"], sort=False)[\"STUDENT_GENDER\"]\n",
    "    .first()\n",
    ")\n",
    "mask_gender_na = clean_2024[\"STUDENT_GENDER\"].isna()\n",
    "keys = list(zip(clean_2024.loc[mask_gender_na, \"SCHOOL_NAME\"], clean_2024.loc[mask_gender_na, \"STUDENT_ID\"]))\n",
    "clean_2024.loc[mask_gender_na, \"STUDENT_GENDER\"] = [lookup_gender.get(k, pd.NA) for k in keys]\n",
    "clean_2024[\"STUDENT_GENDER\"].fillna(clean_2024[\"STUDENT_GENDER\"].mode().iloc[0], inplace=True)\n",
    "clean_2024[\"ETHNIC_CODE\"].fillna(\"C\", inplace=True)\n",
    "\n",
    "\n",
    "clean_2024.drop(index=72159, inplace=True)\n",
    "raw_yearly_df[2024] = clean_2024"
   ]
  },
  {
   "cell_type": "code",
   "execution_count": 13,
   "id": "15581c30",
   "metadata": {},
   "outputs": [],
   "source": [
    "merged_df = pd.concat([raw_yearly_df[yr] for yr in sorted(raw_yearly_df)], ignore_index=True)\n",
    "output_path = cfg.INTERIM_DATA_DIR / \"Merged_Data.csv\"\n",
    "merged_df.to_csv(output_path, index=False)"
   ]
  }
 ],
 "metadata": {
  "kernelspec": {
   "display_name": "Predictions-and-Alerts",
   "language": "python",
   "name": "python3"
  },
  "language_info": {
   "codemirror_mode": {
    "name": "ipython",
    "version": 3
   },
   "file_extension": ".py",
   "mimetype": "text/x-python",
   "name": "python",
   "nbconvert_exporter": "python",
   "pygments_lexer": "ipython3",
   "version": "3.13.3"
  }
 },
 "nbformat": 4,
 "nbformat_minor": 5
}
