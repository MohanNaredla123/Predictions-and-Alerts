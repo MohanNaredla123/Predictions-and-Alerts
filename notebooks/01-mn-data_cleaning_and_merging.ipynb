{
 "cells": [
  {
   "cell_type": "code",
   "execution_count": 1,
   "id": "98866f32",
   "metadata": {},
   "outputs": [],
   "source": [
    "import pandas as pd\n",
    "from CAD.config import Config"
   ]
  },
  {
   "cell_type": "code",
   "execution_count": 6,
   "id": "ceb25ebe",
   "metadata": {},
   "outputs": [],
   "source": [
    "config = Config()\n",
    "min_year, max_year = config.getMinMaxYear()\n",
    "\n",
    "attendance_dfs = {}                        \n",
    "for year in range(min_year, max_year + 1):\n",
    "    fp = config.RAW_DATA_DIR / f\"{year}_attendance_data.xlsx\"\n",
    "    if year != 2024:\n",
    "        attendance_dfs[year] = pd.read_excel(fp, engine=\"openpyxl\")\n",
    "    else:\n",
    "        attendance_dfs[year] = pd.read_excel(fp, engine=\"openpyxl\", sheet_name='Sheet1')"
   ]
  },
  {
   "cell_type": "code",
   "execution_count": 7,
   "id": "c5fe4ed0",
   "metadata": {},
   "outputs": [
    {
     "name": "stdout",
     "output_type": "stream",
     "text": [
      "<class 'pandas.core.frame.DataFrame'>\n",
      "RangeIndex: 299833 entries, 0 to 299832\n",
      "Data columns (total 17 columns):\n",
      " #   Column                       Non-Null Count   Dtype         \n",
      "---  ------                       --------------   -----         \n",
      " 0   SCHOOL_YEAR                  299833 non-null  datetime64[ns]\n",
      " 1   DISTRICT_CODE                299833 non-null  int64         \n",
      " 2   DISTRICT_NAME                299833 non-null  object        \n",
      " 3   LOCATION_ID                  299833 non-null  int64         \n",
      " 4   SCHOOL_NAME                  299833 non-null  object        \n",
      " 5   STUDENT_ID                   299833 non-null  int64         \n",
      " 6   TOTAL_DAYS_UNEXCUSED_ABSENT  299833 non-null  float64       \n",
      " 7   TOTAL_DAYS_ENROLLED          299833 non-null  int64         \n",
      " 8   TOTAL_DAYS_PRESENT           299833 non-null  float64       \n",
      " 9   STUDENT_GRADE_LEVEL          299833 non-null  object        \n",
      " 10  CURR_GRADE_ORD               299833 non-null  object        \n",
      " 11  ETHNIC_CODE                  295141 non-null  object        \n",
      " 12  STUDENT_GENDER               299211 non-null  object        \n",
      " 13  ECONOMIC_CODE                299833 non-null  int64         \n",
      " 14  SPECIAL_ED_CODE              299833 non-null  int64         \n",
      " 15  ENG_PROF_CODE                299833 non-null  int64         \n",
      " 16  HISPANIC_IND                 299833 non-null  int64         \n",
      "dtypes: datetime64[ns](1), float64(2), int64(8), object(6)\n",
      "memory usage: 38.9+ MB\n"
     ]
    }
   ],
   "source": [
    "attendance_dfs[2024].info()"
   ]
  },
  {
   "cell_type": "code",
   "execution_count": 8,
   "id": "6bd30c10",
   "metadata": {},
   "outputs": [],
   "source": [
    "name_map = {\n",
    "    'TOTAL_DAYS_UNEXCUSED_ABSENT': 'Total_Days_Unexcused_Absent',\n",
    "    'TOTAL_DAYS_ENROLLED': 'Total_Days_Enrolled',\n",
    "    'TOTAL_DAYS_PRESENT': 'Total_Days_Present'\n",
    "}\n",
    "\n",
    "attendance_dfs[2024] = attendance_dfs[2024].rename(name_map, axis=1)"
   ]
  },
  {
   "cell_type": "code",
   "execution_count": 9,
   "id": "100ba66d",
   "metadata": {},
   "outputs": [],
   "source": [
    "mapper = {\n",
    "    'A': 'Asian',\n",
    "    'B': 'Black or African American',\n",
    "    'C': 'Caucasian',\n",
    "    'I': 'American Indian/Alaskan Native',\n",
    "    'P': 'Native Hawaiian or Other Pacific Islander',\n",
    "    'H': 'Hispanic',\n",
    "    'MR': 'Multi-Racial'\n",
    "}\n",
    "\n",
    "attendance_dfs[2024]['ETHNIC_CODE'] = attendance_dfs[2024]['ETHNIC_CODE'].replace(list(mapper.values()), list(mapper.keys()))"
   ]
  },
  {
   "cell_type": "code",
   "execution_count": 10,
   "id": "2503cfc0",
   "metadata": {},
   "outputs": [
    {
     "name": "stderr",
     "output_type": "stream",
     "text": [
      "/var/folders/g7/qvkgm1k12kzfvx8hv5_jqcph0000gn/T/ipykernel_53319/2272413774.py:5: FutureWarning: Downcasting behavior in `replace` is deprecated and will be removed in a future version. To retain the old behavior, explicitly call `result.infer_objects(copy=False)`. To opt-in to the future behavior, set `pd.set_option('future.no_silent_downcasting', True)`\n",
      "  attendance_dfs[2024]['STUDENT_GRADE_LEVEL'] = attendance_dfs[2024]['STUDENT_GRADE_LEVEL'].replace(['KF', 'PK'], [0, -1]).astype('int')\n"
     ]
    }
   ],
   "source": [
    "attendance_dfs[2024]['ECONOMIC_CODE'] = attendance_dfs[2024]['ECONOMIC_CODE'].replace([0, 1], ['N', 'F'])\n",
    "attendance_dfs[2024]['SPECIAL_ED_CODE'] = attendance_dfs[2024]['SPECIAL_ED_CODE'].replace([0, 1], ['N', 'Y'])\n",
    "attendance_dfs[2024]['HISPANIC_IND'] = attendance_dfs[2024]['HISPANIC_IND'].replace([0, 1], ['No', 'Yes'])\n",
    "attendance_dfs[2024]['STUDENT_GENDER'] = attendance_dfs[2024]['STUDENT_GENDER'].replace(['M', 'F'], ['Male', 'Female'])\n",
    "attendance_dfs[2024]['STUDENT_GRADE_LEVEL'] = attendance_dfs[2024]['STUDENT_GRADE_LEVEL'].replace(['KF', 'PK'], [0, -1]).astype('int')"
   ]
  },
  {
   "cell_type": "code",
   "execution_count": 11,
   "id": "5a29a8ef",
   "metadata": {},
   "outputs": [],
   "source": [
    "duplicated_students =  attendance_dfs[2024][attendance_dfs[2024]['STUDENT_ID'].duplicated(keep=False)].copy()\n",
    "\n",
    "grade_pattern_ids = []\n",
    "school_pattern_ids = []\n",
    "grade_and_school_pattern_ids = []\n",
    "ethnic_pattern_ids = []\n",
    "\n",
    "for student, group in duplicated_students.groupby('STUDENT_ID'):\n",
    "    if len(group) < 2:\n",
    "        continue\n",
    "\n",
    "    if group['STUDENT_GRADE_LEVEL'].nunique() > 1 and group['SCHOOL_NAME'].nunique() == 1:\n",
    "        grade_pattern_ids.append(student)\n",
    "\n",
    "    elif group['SCHOOL_NAME'].nunique() > 1 and group['STUDENT_GRADE_LEVEL'].nunique() == 1:\n",
    "        school_pattern_ids.append(student)\n",
    "    \n",
    "    elif group['SCHOOL_NAME'].nunique() > 1 and group['STUDENT_GRADE_LEVEL'].nunique() > 1:\n",
    "        grade_and_school_pattern_ids.append(student)\n",
    "    \n",
    "    else:\n",
    "        ethnic_pattern_ids.append(student)\n",
    "\n",
    "\n",
    "grade_pattern_df = duplicated_students[duplicated_students['STUDENT_ID'].isin(grade_pattern_ids)]\n",
    "school_pattern_df = duplicated_students[duplicated_students['STUDENT_ID'].isin(school_pattern_ids)]\n",
    "grade_and_school_pattern_df = duplicated_students[duplicated_students['STUDENT_ID'].isin(grade_and_school_pattern_ids)]\n",
    "ethnic_pattern_df = duplicated_students[duplicated_students['STUDENT_ID'].isin(ethnic_pattern_ids)]"
   ]
  },
  {
   "cell_type": "code",
   "execution_count": 12,
   "id": "738a2091",
   "metadata": {},
   "outputs": [],
   "source": [
    "ethnic_pattern_df = ethnic_pattern_df.drop_duplicates(subset='STUDENT_ID', keep='first')\n",
    "school_pattern_df = school_pattern_df.drop_duplicates(subset=['STUDENT_ID', 'SCHOOL_NAME'], keep='last').fillna('C')\n",
    "grade_and_school_pattern_df = grade_and_school_pattern_df.drop_duplicates(subset='STUDENT_ID', keep='last')"
   ]
  },
  {
   "cell_type": "code",
   "execution_count": 13,
   "id": "51a35201",
   "metadata": {},
   "outputs": [],
   "source": [
    "attendance_dfs[2023]['STUDENT_GRADE_LEVEL'] = attendance_dfs[2023]['STUDENT_GRADE_LEVEL'].replace(['KF', 'PK'], [0, -1])\n",
    "data_2023_unique = attendance_dfs[2023].drop_duplicates(subset=['STUDENT_ID'], keep='first')\n",
    "\n",
    "df = (\n",
    "    grade_pattern_df\n",
    "    .merge(data_2023_unique, on=\"STUDENT_ID\", how=\"left\", suffixes=(\"\", \"_prev\"))\n",
    ")\n",
    "\n",
    "df[\"expected_grade\"] = df[\"STUDENT_GRADE_LEVEL_prev\"] + 1\n",
    "df[\"has_prev\"] = df[\"STUDENT_GRADE_LEVEL_prev\"].notna()\n",
    "\n",
    "keepers = df.loc[\n",
    "      (df[\"STUDENT_GRADE_LEVEL\"] == df[\"expected_grade\"])\n",
    "   | (~df[\"has_prev\"] & (df[\"STUDENT_GRADE_LEVEL\"] == -1))\n",
    "].copy()\n",
    "\n",
    "flagged = df.drop(index=keepers.index).copy()\n",
    "\n",
    "keepers = keepers[grade_pattern_df.columns]\n",
    "flagged = flagged[grade_pattern_df.columns.to_list()]"
   ]
  },
  {
   "cell_type": "code",
   "execution_count": 14,
   "id": "5d5e7cce",
   "metadata": {},
   "outputs": [],
   "source": [
    "flagged = flagged[~flagged['STUDENT_ID'].isin(keepers['STUDENT_ID'].values)]\n",
    "idx = flagged.groupby('STUDENT_ID')['STUDENT_GRADE_LEVEL'].idxmax()\n",
    "flagged = flagged.loc[idx].reset_index(drop=True)"
   ]
  },
  {
   "cell_type": "code",
   "execution_count": 15,
   "id": "fd41c317",
   "metadata": {},
   "outputs": [],
   "source": [
    "dropping_ids = grade_and_school_pattern_ids + grade_pattern_ids + school_pattern_ids + ethnic_pattern_ids\n",
    "attendance_dfs[2024] = attendance_dfs[2024][~attendance_dfs[2024]['STUDENT_ID'].isin(dropping_ids)]\n",
    "attendance_dfs[2024] = pd.concat([attendance_dfs[2024], ethnic_pattern_df, school_pattern_df, keepers, flagged, grade_and_school_pattern_df], axis=0).reset_index(drop=True)"
   ]
  },
  {
   "cell_type": "code",
   "execution_count": 16,
   "id": "b22e5e8e",
   "metadata": {},
   "outputs": [
    {
     "name": "stdout",
     "output_type": "stream",
     "text": [
      "<class 'pandas.core.frame.DataFrame'>\n",
      "RangeIndex: 299511 entries, 0 to 299510\n",
      "Data columns (total 17 columns):\n",
      " #   Column                       Non-Null Count   Dtype         \n",
      "---  ------                       --------------   -----         \n",
      " 0   SCHOOL_YEAR                  299511 non-null  datetime64[ns]\n",
      " 1   DISTRICT_CODE                299511 non-null  int64         \n",
      " 2   DISTRICT_NAME                299511 non-null  object        \n",
      " 3   LOCATION_ID                  299511 non-null  int64         \n",
      " 4   SCHOOL_NAME                  299511 non-null  object        \n",
      " 5   STUDENT_ID                   299511 non-null  int64         \n",
      " 6   Total_Days_Unexcused_Absent  299511 non-null  float64       \n",
      " 7   Total_Days_Enrolled          299511 non-null  int64         \n",
      " 8   Total_Days_Present           299511 non-null  float64       \n",
      " 9   STUDENT_GRADE_LEVEL          299511 non-null  int64         \n",
      " 10  CURR_GRADE_ORD               299511 non-null  object        \n",
      " 11  ETHNIC_CODE                  299511 non-null  object        \n",
      " 12  STUDENT_GENDER               299511 non-null  object        \n",
      " 13  ECONOMIC_CODE                299511 non-null  object        \n",
      " 14  SPECIAL_ED_CODE              299511 non-null  object        \n",
      " 15  ENG_PROF_CODE                299511 non-null  int64         \n",
      " 16  HISPANIC_IND                 299511 non-null  object        \n",
      "dtypes: datetime64[ns](1), float64(2), int64(6), object(8)\n",
      "memory usage: 38.8+ MB\n"
     ]
    }
   ],
   "source": [
    "gender_lookup = (\n",
    "    attendance_dfs[2023]\n",
    "      .dropna(subset=[\"STUDENT_GENDER\"])\n",
    "      .groupby([\"SCHOOL_NAME\", \"STUDENT_ID\"], sort=False)[\"STUDENT_GENDER\"]\n",
    "      .first()\n",
    ")\n",
    "\n",
    "mask = attendance_dfs[2024][\"STUDENT_GENDER\"].isna()\n",
    "keys = list(zip(attendance_dfs[2024].loc[mask, \"SCHOOL_NAME\"], attendance_dfs[2024].loc[mask, \"STUDENT_ID\"]))\n",
    "attendance_dfs[2024].loc[mask, \"STUDENT_GENDER\"] = [gender_lookup.get(k, pd.NA) for k in keys]\n",
    "attendance_dfs[2024]['STUDENT_GENDER'] = attendance_dfs[2024]['STUDENT_GENDER'].fillna(attendance_dfs[2024]['STUDENT_GENDER'].mode().values[0])\n",
    "attendance_dfs[2024]['ETHNIC_CODE'] = attendance_dfs[2024]['ETHNIC_CODE'].fillna('C')\n",
    "attendance_dfs[2024].info()"
   ]
  },
  {
   "cell_type": "code",
   "execution_count": 17,
   "id": "216b72d9",
   "metadata": {},
   "outputs": [],
   "source": [
    "attendance_dfs[2024] = attendance_dfs[2024].drop(72159, axis=0)  #Dropped a record whose total days enrolled > 365"
   ]
  },
  {
   "cell_type": "code",
   "execution_count": 18,
   "id": "f56a9e52",
   "metadata": {},
   "outputs": [],
   "source": [
    "duplicated_past = attendance_dfs[2020][attendance_dfs[2020]['STUDENT_ID'].duplicated(keep=False)].sort_values(by='STUDENT_ID')\n",
    "\n",
    "non_duplicates = []\n",
    "others = []\n",
    "duplicates = []\n",
    "for student, group in duplicated_past.groupby('STUDENT_ID'):\n",
    "    if len(group) < 2:\n",
    "        continue\n",
    "\n",
    "    if group['SCHOOL_NAME'].nunique() == 1:\n",
    "        non_duplicates.append(student)\n",
    "    \n",
    "    elif group['SCHOOL_NAME'].nunique() > 1:\n",
    "        duplicates.append(student)\n",
    "        \n",
    "    else:\n",
    "        others.append(student)\n",
    "\n",
    "non_dup = duplicated_past[duplicated_past['STUDENT_ID'].isin(non_duplicates)]\n",
    "dup = duplicated_past[duplicated_past['STUDENT_ID'].isin(duplicates)]\n",
    "other = duplicated_past[duplicated_past['STUDENT_ID'].isin(others)]"
   ]
  },
  {
   "cell_type": "code",
   "execution_count": 20,
   "id": "22776a1b",
   "metadata": {},
   "outputs": [],
   "source": [
    "df['DISTRICT_CODE'] = df['DISTRICT_CODE'].astype(str).str.zfill(3)\n",
    "df['LOCATION_ID'] = df['LOCATION_ID'].astype(str).str.zfill(3)\n",
    "\n",
    "df = pd.concat([attendance_dfs[2019], attendance_dfs[2020], attendance_dfs[2021], attendance_dfs[2022], attendance_dfs[2023], attendance_dfs[2024]], axis=0).reset_index(drop=True)\n",
    "df.to_csv(config.INTERIM_DATA_DIR / 'Merged_Data.csv', index=False)"
   ]
  }
 ],
 "metadata": {
  "kernelspec": {
   "display_name": "Model-Training",
   "language": "python",
   "name": "python3"
  },
  "language_info": {
   "codemirror_mode": {
    "name": "ipython",
    "version": 3
   },
   "file_extension": ".py",
   "mimetype": "text/x-python",
   "name": "python",
   "nbconvert_exporter": "python",
   "pygments_lexer": "ipython3",
   "version": "3.13.4"
  }
 },
 "nbformat": 4,
 "nbformat_minor": 5
}
