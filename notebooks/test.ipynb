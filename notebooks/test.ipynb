{
 "cells": [
  {
   "cell_type": "code",
   "execution_count": 1,
   "id": "cc97ea3a",
   "metadata": {},
   "outputs": [],
   "source": [
    "import pandas as pd"
   ]
  },
  {
   "cell_type": "code",
   "execution_count": 14,
   "id": "09689f67",
   "metadata": {},
   "outputs": [],
   "source": [
    "data = pd.read_csv('/home/mohan/Developer/AIP_Projects/Predictions-and-Alerts/data/processed/Predictions.csv')"
   ]
  },
  {
   "cell_type": "code",
   "execution_count": 10,
   "id": "a31a95ad",
   "metadata": {},
   "outputs": [],
   "source": [
    "data['SCHOOL_YEAR'] = data['SCHOOL_YEAR'].str[:4]"
   ]
  },
  {
   "cell_type": "code",
   "execution_count": 11,
   "id": "059024a1",
   "metadata": {},
   "outputs": [
    {
     "data": {
      "text/plain": [
       "0          2025\n",
       "1          2021\n",
       "2          2025\n",
       "3          2021\n",
       "4          2025\n",
       "           ... \n",
       "2419737    2024\n",
       "2419738    2025\n",
       "2419739    2022\n",
       "2419740    2023\n",
       "2419741    2024\n",
       "Name: SCHOOL_YEAR, Length: 2419742, dtype: object"
      ]
     },
     "execution_count": 11,
     "metadata": {},
     "output_type": "execute_result"
    }
   ],
   "source": [
    "data['SCHOOL_YEAR']"
   ]
  },
  {
   "cell_type": "code",
   "execution_count": 15,
   "id": "efe49054",
   "metadata": {},
   "outputs": [
    {
     "data": {
      "text/plain": [
       "array(['4', '5', '8', 'PK', 'KF', '9', '10', '12', '11', '1', '6', '7',\n",
       "       '2', '3', '-1', 'OS', '0'], dtype=object)"
      ]
     },
     "execution_count": 15,
     "metadata": {},
     "output_type": "execute_result"
    }
   ],
   "source": [
    "data['STUDENT_GRADE_LEVEL'].unique()"
   ]
  }
 ],
 "metadata": {
  "kernelspec": {
   "display_name": "Predictions-and-Alerts",
   "language": "python",
   "name": "python3"
  },
  "language_info": {
   "codemirror_mode": {
    "name": "ipython",
    "version": 3
   },
   "file_extension": ".py",
   "mimetype": "text/x-python",
   "name": "python",
   "nbconvert_exporter": "python",
   "pygments_lexer": "ipython3",
   "version": "3.13.5"
  }
 },
 "nbformat": 4,
 "nbformat_minor": 5
}
