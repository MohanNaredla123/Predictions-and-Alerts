{
 "cells": [
  {
   "cell_type": "code",
   "execution_count": 2,
   "id": "960d0c3a",
   "metadata": {},
   "outputs": [],
   "source": [
    "import pandas as pd\n",
    "import numpy as np\n",
    "import re\n",
    "\n",
    "from CAD.config import Config"
   ]
  },
  {
   "cell_type": "code",
   "execution_count": 3,
   "id": "3114883d",
   "metadata": {},
   "outputs": [
    {
     "name": "stderr",
     "output_type": "stream",
     "text": [
      "/var/folders/g7/qvkgm1k12kzfvx8hv5_jqcph0000gn/T/ipykernel_59533/2879187287.py:2: DtypeWarning: Columns (9,15) have mixed types. Specify dtype option on import or set low_memory=False.\n",
      "  df = pd.read_csv(config.INTERIM_DATA_DIR / 'Merged_Data.csv')\n"
     ]
    }
   ],
   "source": [
    "config = Config()\n",
    "df = pd.read_csv(config.INTERIM_DATA_DIR / 'Merged_Data.csv')"
   ]
  },
  {
   "cell_type": "code",
   "execution_count": 4,
   "id": "1bf93229",
   "metadata": {},
   "outputs": [
    {
     "name": "stderr",
     "output_type": "stream",
     "text": [
      "/var/folders/g7/qvkgm1k12kzfvx8hv5_jqcph0000gn/T/ipykernel_59533/2389374588.py:4: FutureWarning: Downcasting behavior in `replace` is deprecated and will be removed in a future version. To retain the old behavior, explicitly call `result.infer_objects(copy=False)`. To opt-in to the future behavior, set `pd.set_option('future.no_silent_downcasting', True)`\n",
      "  df['ECONOMIC_CODE'] = df['ECONOMIC_CODE'].replace(['F', 'N', 'R'], [1, 0, 1])\n",
      "/var/folders/g7/qvkgm1k12kzfvx8hv5_jqcph0000gn/T/ipykernel_59533/2389374588.py:5: FutureWarning: Downcasting behavior in `replace` is deprecated and will be removed in a future version. To retain the old behavior, explicitly call `result.infer_objects(copy=False)`. To opt-in to the future behavior, set `pd.set_option('future.no_silent_downcasting', True)`\n",
      "  df['SPECIAL_ED_CODE'] = df['SPECIAL_ED_CODE'].replace(['Y', 'N'], [1, 0])\n",
      "/var/folders/g7/qvkgm1k12kzfvx8hv5_jqcph0000gn/T/ipykernel_59533/2389374588.py:7: FutureWarning: Downcasting behavior in `replace` is deprecated and will be removed in a future version. To retain the old behavior, explicitly call `result.infer_objects(copy=False)`. To opt-in to the future behavior, set `pd.set_option('future.no_silent_downcasting', True)`\n",
      "  df['HISPANIC_IND'] = df['HISPANIC_IND'].replace(['No', 'Yes'], [0, 1])\n"
     ]
    }
   ],
   "source": [
    "df = df.drop('CURR_GRADE_ORD', axis=1)\n",
    "df['SCHOOL_YEAR'] = df['SCHOOL_YEAR'].str.split('-').str[0]\n",
    "df['STUDENT_GRADE_LEVEL'] = df['STUDENT_GRADE_LEVEL'].replace(['PK', 'KF', 'OS'], [-1, 0, -2])\n",
    "df['ECONOMIC_CODE'] = df['ECONOMIC_CODE'].replace(['F', 'N', 'R'], [1, 0, 1])\n",
    "df['SPECIAL_ED_CODE'] = df['SPECIAL_ED_CODE'].replace(['Y', 'N'], [1, 0])\n",
    "df['ENG_PROF_CODE'] = df['ENG_PROF_CODE'].replace('NT', -1)\n",
    "df['HISPANIC_IND'] = df['HISPANIC_IND'].replace(['No', 'Yes'], [0, 1])"
   ]
  },
  {
   "cell_type": "code",
   "execution_count": 5,
   "id": "758c06e0",
   "metadata": {},
   "outputs": [],
   "source": [
    "non_numeric_columns = ['SCHOOL_NAME', 'DISTRICT_NAME', 'ETHNIC_CODE', 'STUDENT_GENDER']\n",
    "float_cols = ['Total_Days_Unexcused_Absent', 'Total_Days_Enrolled', 'Total_Days_Present']\n",
    "\n",
    "numeric_columns = [col for col in df.columns if col not in [*non_numeric_columns, *float_cols]]\n",
    "\n",
    "for col in numeric_columns:\n",
    "    df[col] = df[col].astype(int)\n",
    "\n",
    "for col in float_cols:\n",
    "    df[col] = df[col].astype(float)"
   ]
  },
  {
   "cell_type": "code",
   "execution_count": 6,
   "id": "a61c247d",
   "metadata": {},
   "outputs": [],
   "source": [
    "attendance_cols = ['Total_Days_Present', 'Total_Days_Enrolled', 'Total_Days_Unexcused_Absent']\n",
    "other_cols = [col for col in df.columns if col not in attendance_cols]\n",
    "\n",
    "agg_dict = {key: 'sum' for key in attendance_cols}\n",
    "agg_dict.update({key: 'last' for key in other_cols})\n",
    "grouped_df = df.groupby(by=['STUDENT_ID', 'SCHOOL_YEAR']).agg(agg_dict).reset_index(drop=True)\n",
    "df = grouped_df[[*df.columns, *grouped_df.columns.difference(df.columns)]]"
   ]
  },
  {
   "cell_type": "code",
   "execution_count": 9,
   "id": "9c94d3e5",
   "metadata": {},
   "outputs": [],
   "source": [
    "# df.loc[1688836, 'Total_Days_Present'] = 54.0\n",
    "# df.loc[731523, 'Total_Days_Present'] = 1.0\n",
    "# df.loc[1904340, 'Total_Days_Present'] = 2.0\n",
    "# df.loc[1904340, 'Total_Days_Unexcused_Absent'] = 8.0\n",
    "# df.loc[1904340, 'Total_Days_Enrolled'] = 10.0\n",
    "# df.loc[[1016188, 1227776, 1400304, 1401473, 1413193], 'Total_Days_Unexcused_Absent'] = 0.0\n",
    "# df.loc[686159, 'Total_Days_Unexcused_Absent'] = 3.5\n",
    "# df.loc[687907, 'Total_Days_Unexcused_Absent'] = 4.0"
   ]
  },
  {
   "cell_type": "code",
   "execution_count": 7,
   "id": "6e0d64c5",
   "metadata": {},
   "outputs": [],
   "source": [
    "#12-th grade students\n",
    "grade_12_students = df[df['STUDENT_GRADE_LEVEL'] == 12]\n",
    "\n",
    "# Days Enrolled Greater than Unexcused + Present\n",
    "days_enr_gt_unexcpluspres = df[(df['Total_Days_Unexcused_Absent'] + df['Total_Days_Present']) > df['Total_Days_Enrolled']]\n",
    "\n",
    "# Grade inconsistencies (demotion of grades)\n",
    "df_sorted = df.sort_values(by=['STUDENT_ID', 'SCHOOL_YEAR'])\n",
    "grade_mask = df_sorted.groupby('STUDENT_ID')['STUDENT_GRADE_LEVEL'].diff().lt(0)\n",
    "grade_inconsitency_df = df[df['STUDENT_ID'].isin(df[grade_mask]['STUDENT_ID'].values)].sort_values(by='STUDENT_ID')\n",
    "\n",
    "# Drop list\n",
    "negative_values_indices = [1688836, 731523, 1904340, *[1016188, 1227776, 1400304, 1401473, 1413193], 686159, 687907]\n",
    "\n",
    "drop_list = [*days_enr_gt_unexcpluspres.index, *grade_inconsitency_df.index, *grade_12_students.index, *negative_values_indices, *df[df['Total_Days_Enrolled'] > 300].index]\n",
    "\n",
    "df = df.drop(drop_list, axis=0)"
   ]
  },
  {
   "cell_type": "code",
   "execution_count": 8,
   "id": "90a29fab",
   "metadata": {},
   "outputs": [],
   "source": [
    "mask = df.groupby('STUDENT_ID')['STUDENT_GENDER'].transform('nunique').gt(1)\n",
    "gender_change_df = df[mask].sort_values(by=['STUDENT_ID', 'SCHOOL_YEAR'])\n",
    "gender_change_df['STUDENT_GENDER'] = gender_change_df.groupby('STUDENT_ID')['STUDENT_GENDER'].transform('last')\n",
    "\n",
    "df = df.drop(gender_change_df.index, axis=0)\n",
    "df = pd.concat([df, gender_change_df], axis=0).reset_index(drop=True)\n",
    "\n",
    "df['Attendance_Rate'] = df['Total_Days_Present'] / df['Total_Days_Enrolled']"
   ]
  },
  {
   "cell_type": "code",
   "execution_count": 9,
   "id": "2b9f77ff",
   "metadata": {},
   "outputs": [],
   "source": [
    "count_series = df.groupby('STUDENT_ID')['SCHOOL_YEAR'].nunique()\n",
    "training_data = df[df['STUDENT_ID'].isin(count_series[count_series == 6].index)].sort_values(by=['STUDENT_ID', 'SCHOOL_YEAR'])"
   ]
  },
  {
   "cell_type": "code",
   "execution_count": 10,
   "id": "68ac2b26",
   "metadata": {},
   "outputs": [],
   "source": [
    "five_year_data = df[df['STUDENT_ID'].isin(count_series[count_series == 5].index)].sort_values(by=['STUDENT_ID', 'SCHOOL_YEAR'])\n",
    "non_imputation_data = five_year_data[five_year_data['STUDENT_GRADE_LEVEL'] == -1]\n",
    "dropping_data = five_year_data[five_year_data['STUDENT_ID'].isin(non_imputation_data['STUDENT_ID'].unique())]\n",
    "\n",
    "five_year_data = five_year_data.drop(dropping_data.index, axis=0).reset_index(drop=True)"
   ]
  },
  {
   "cell_type": "code",
   "execution_count": 11,
   "id": "a54014ef",
   "metadata": {},
   "outputs": [
    {
     "name": "stderr",
     "output_type": "stream",
     "text": [
      "/var/folders/g7/qvkgm1k12kzfvx8hv5_jqcph0000gn/T/ipykernel_59533/1568285024.py:16: FutureWarning: DataFrameGroupBy.apply operated on the grouping columns. This behavior is deprecated, and in a future version of pandas the grouping columns will be excluded from the operation. Either pass `include_groups=False` to exclude the groupings or explicitly select the grouping columns after groupby to silence this warning.\n",
      "  five_year_data.groupby('STUDENT_ID').apply(need_non_linear_impute).sum()\n"
     ]
    },
    {
     "data": {
      "text/plain": [
       "np.int64(0)"
      ]
     },
     "execution_count": 11,
     "metadata": {},
     "output_type": "execute_result"
    }
   ],
   "source": [
    "# Checking if linear interpolation is good\n",
    "\n",
    "def need_non_linear_impute(group, thresh=0.2):\n",
    "    g = group.set_index('SCHOOL_YEAR').sort_index()\n",
    "    missing = set([2019, 2020, 2021, 2022, 2023]) - set(g.index)\n",
    "\n",
    "    for yr in missing:\n",
    "        if yr - 1 in g.index and yr + 1 in g.index:\n",
    "            left, right = int(g.loc[[yr - 1, yr + 1], 'Total_Days_Present'].values[0]), int(g.loc[[yr - 1, yr + 1], 'Total_Days_Present'].values[0])\n",
    "            if abs(right - left) / max(1, max(left, right)) > thresh:\n",
    "                return True\n",
    "        \n",
    "    return False\n",
    "\n",
    "\n",
    "five_year_data.groupby('STUDENT_ID').apply(need_non_linear_impute).sum()"
   ]
  },
  {
   "cell_type": "code",
   "execution_count": 12,
   "id": "ce07b035",
   "metadata": {},
   "outputs": [
    {
     "name": "stderr",
     "output_type": "stream",
     "text": [
      "/var/folders/g7/qvkgm1k12kzfvx8hv5_jqcph0000gn/T/ipykernel_59533/3221770233.py:22: FutureWarning: DataFrameGroupBy.apply operated on the grouping columns. This behavior is deprecated, and in a future version of pandas the grouping columns will be excluded from the operation. Either pass `include_groups=False` to exclude the groupings or explicitly select the grouping columns after groupby to silence this warning.\n",
      "  five_year_data = five_year_data.groupby('STUDENT_ID').apply(impute)\n"
     ]
    }
   ],
   "source": [
    "# Imputing missing data for five year students using linear interpolation\n",
    "full_years = range(2019, 2025)\n",
    "attendance_cols = ['Total_Days_Present', 'Total_Days_Enrolled', 'Total_Days_Unexcused_Absent']\n",
    "explicit_columns = ['STUDENT_GRADE_LEVEL', 'Attendance_Rate']\n",
    "static_cols = [col for col in five_year_data.columns if col not in attendance_cols + explicit_columns and col != 'SCHOOL_YEAR']\n",
    "\n",
    "def impute(group):\n",
    "    g = group.set_index('SCHOOL_YEAR').sort_index()\n",
    "    g = g.reindex(full_years)\n",
    "\n",
    "    g['Is_Imputed'] = g[attendance_cols].isna().any(axis=1)\n",
    "\n",
    "    g[static_cols] = g[static_cols].ffill().bfill()\n",
    "    g[attendance_cols] = g[attendance_cols].interpolate(method='linear', limit_direction='both').round(0).astype('float')\n",
    "    g['Attendance_Rate'] = g['Total_Days_Present'] / group['Total_Days_Enrolled']\n",
    "\n",
    "    g['STUDENT_GRADE_LEVEL_Check'] = g['STUDENT_GRADE_LEVEL'].ffill().bfill()\n",
    "    g['STUDENT_GRADE_LEVEL'] = g['STUDENT_GRADE_LEVEL'].fillna(g['STUDENT_GRADE_LEVEL_Check'] + 1)\n",
    "\n",
    "    return g.reset_index()\n",
    "\n",
    "five_year_data = five_year_data.groupby('STUDENT_ID').apply(impute)"
   ]
  },
  {
   "cell_type": "code",
   "execution_count": 13,
   "id": "d8b44892",
   "metadata": {},
   "outputs": [],
   "source": [
    "# Cleaning Up and Rejoining\n",
    "five_year_data = five_year_data.reset_index(drop=True)\n",
    "five_year_data = five_year_data.drop(['STUDENT_GRADE_LEVEL_Check'], axis=1)\n",
    "five_year_data['Attendance_Rate'] = five_year_data['Total_Days_Present'] / five_year_data['Total_Days_Enrolled']\n",
    "\n",
    "integer_cols = [col for col in five_year_data.select_dtypes(include='number') if col not in attendance_cols + ['Attendance_Rate']]\n",
    "five_year_data[integer_cols] = five_year_data[integer_cols].astype(int)\n",
    "\n",
    "training_df = pd.concat([training_data, five_year_data], axis=0).sort_values(by=['STUDENT_ID', 'SCHOOL_YEAR']).reset_index(drop=True)\n",
    "training_df['Is_Imputed'] = training_df['Is_Imputed'].fillna(0).astype(int)"
   ]
  },
  {
   "cell_type": "code",
   "execution_count": 14,
   "id": "d8bfd2ad",
   "metadata": {},
   "outputs": [],
   "source": [
    "# Pivoting\n",
    "attendance_pivot = training_df.pivot(index='STUDENT_ID', columns='SCHOOL_YEAR', values='Attendance_Rate').add_prefix('Attendance_Rate_').reset_index().rename_axis(None, axis=1)\n",
    "\n",
    "absent_pivot = training_df.pivot(index='STUDENT_ID', columns='SCHOOL_YEAR', values='Total_Days_Unexcused_Absent').add_prefix('Total_Days_Unexcused_Absent_').rename_axis(None, axis=1).reset_index()\n",
    "\n",
    "present_pivot = training_df.pivot(index='STUDENT_ID', columns='SCHOOL_YEAR', values='Total_Days_Present').add_prefix('Total_Days_Present_').rename_axis(None, axis=1).reset_index()\n",
    "\n",
    "enrolled_pivot = training_df.pivot(index='STUDENT_ID', columns='SCHOOL_YEAR', values='Total_Days_Enrolled').add_prefix('Total_Days_Enrolled_').rename_axis(None, axis=1).reset_index()\n",
    "\n",
    "grade_pivot = training_df.pivot(index='STUDENT_ID', columns='SCHOOL_YEAR', values='STUDENT_GRADE_LEVEL').add_prefix('STUDENT_GRADE_LEVEL_').rename_axis(None, axis=1).reset_index()\n",
    "\n",
    "imputed_pivot = training_df.pivot(index='STUDENT_ID', columns='SCHOOL_YEAR', values='Is_Imputed').add_prefix('Is_Imputed_').rename_axis(None, axis=1).reset_index()"
   ]
  },
  {
   "cell_type": "code",
   "execution_count": 15,
   "id": "f623efaf",
   "metadata": {},
   "outputs": [],
   "source": [
    "non_aggregate_cols = ['Total_Days_Unexcused_Absent', 'Total_Days_Enrolled', 'Total_Days_Present', 'STUDENT_GRADE_LEVEL', 'Attendance_Rate', 'Is_Imputed']\n",
    "\n",
    "aggreagte_cols = [col for col in training_df.columns if col not in non_aggregate_cols]\n",
    "last_agg_dict = {key: 'last' for key in aggreagte_cols}\n",
    "\n",
    "aggregated_df = training_df.groupby('STUDENT_ID').agg(last_agg_dict).reset_index(drop=True)"
   ]
  },
  {
   "cell_type": "code",
   "execution_count": 16,
   "id": "97fa72aa",
   "metadata": {},
   "outputs": [],
   "source": [
    "# Merging Pivot Columns into a dataframe\n",
    "training_df = pd.concat([attendance_pivot.iloc[:, 1:], absent_pivot.iloc[:, 1:], present_pivot.iloc[:, 1:], enrolled_pivot.iloc[:, 1:], grade_pivot.iloc[:, 1:], imputed_pivot.iloc[:, 1:], aggregated_df], axis=1)"
   ]
  },
  {
   "cell_type": "code",
   "execution_count": 17,
   "id": "dd9435ad",
   "metadata": {},
   "outputs": [],
   "source": [
    "def build_features(df,\n",
    "                   chronic_thr=0.95,\n",
    "                   disadv_codes={1},\n",
    "                   female_code=\"Female\",\n",
    "                   grade_map={-2:-2,-1:-1,0:0},\n",
    "                ):\n",
    "\n",
    "    yr_pat = re.compile(r\"Attendance_Rate_(\\d{4})$\")\n",
    "    years  = sorted(int(m.group(1)) for c in df.columns if (m := yr_pat.search(c)))\n",
    "\n",
    "    for y in years:\n",
    "        RATE      = f\"Attendance_Rate_{y}\"\n",
    "        PRESENT   = f\"Total_Days_Present_{y}\"\n",
    "        ENROLLED  = f\"Total_Days_Enrolled_{y}\"\n",
    "        UNEXCUSED = f\"Total_Days_Unexcused_Absent_{y}\"\n",
    "        GRADE_RAW = f\"STUDENT_GRADE_LEVEL_{y}\"\n",
    "\n",
    "        days_enrolled = df[ENROLLED]\n",
    "        df[f\"Unexcused_Rate_{y}\"] = df[UNEXCUSED] / days_enrolled\n",
    "        df[f\"Excused_Rate_{y}\"] = 1.0 - df[RATE] - df[f\"Unexcused_Rate_{y}\"]\n",
    "        df[f\"Total_Absent_Days_{y}\"] = df[ENROLLED] - df[PRESENT]\n",
    "        df[f\"Chronic_Absent_Flag_{y}\"] = (df[RATE] < chronic_thr).astype(\"int8\")\n",
    "\n",
    "        prev1 = f\"Attendance_Rate_{y-1}\"\n",
    "        prev2 = f\"Attendance_Rate_{y-2}\"\n",
    "        df[f\"Att_Rate_Prev1_{y}\"] = df.get(prev1)\n",
    "        df[f\"Att_Rate_Prev2_{y}\"] = df.get(prev2)\n",
    "        df[f\"Delta_Attendance_{y}\"] = df[RATE] - df[f\"Att_Rate_Prev1_{y}\"]\n",
    "\n",
    "        mean_cols = [c for c in (RATE, prev1, prev2) if c in df.columns]\n",
    "        df[f\"Att_Rate_Mean_3yr_{y}\"] = df[mean_cols].mean(axis=1)\n",
    "        df[f\"Att_Rate_Std_Last3_{y}\"] = df[mean_cols].std(axis=1, ddof=1) # Sample Standard Deviation\n",
    "\n",
    "        abs_cols  = [f\"Total_Absent_Days_{yr}\" for yr in (y, y-1, y-2) if f\"Total_Absent_Days_{yr}\" in df.columns]\n",
    "        df[f\"Max_Absent_Days_Last3_{y}\"] = df[abs_cols].max(axis=1)\n",
    "\n",
    "        df[f\"Grade_Numeric_{y}\"] = df[GRADE_RAW].replace(grade_map).astype(float)\n",
    "        prev_g = f\"STUDENT_GRADE_LEVEL_{y-1}\"\n",
    "        df[f\"Grade_Repeat_Flag_{y}\"] = (df[GRADE_RAW] == df[prev_g]).astype(\"int8\") if prev_g in df.columns else np.nan\n",
    "\n",
    "        if y == years[0]:\n",
    "            gcols = [f\"STUDENT_GRADE_LEVEL_{yr}\" for yr in years if f\"STUDENT_GRADE_LEVEL_{yr}\" in df.columns]\n",
    "            df[\"_First_Grade_Num\"] = df[gcols].bfill(axis=1).iloc[:, 0].astype(float)\n",
    "            df[\"_First_Year\"] = df[gcols].notna().idxmax(axis=1).str[-4:].astype(int)\n",
    "\n",
    "        df[f\"Grade_Gap_{y}\"] = df[f\"Grade_Numeric_{y}\"] - (df[\"_First_Grade_Num\"] + (y - df[\"_First_Year\"]))\n",
    "\n",
    "        grp = df.groupby(\"LOCATION_ID\")[RATE]\n",
    "        s_tot, s_cnt = grp.transform(\"sum\"), grp.transform(\"count\")\n",
    "        df[f\"School_Year_Avg_Att_{y}\"] = np.where(s_cnt > 1, (s_tot - df[RATE]) / (s_cnt - 1), np.nan)\n",
    "\n",
    "        grp = df.groupby(\"DISTRICT_CODE\")[RATE]\n",
    "        d_tot, d_cnt = grp.transform(\"sum\"), grp.transform(\"count\")\n",
    "        df[f\"District_Year_Avg_Att_{y}\"] = np.where(d_cnt > 1, (d_tot - df[RATE]) / (d_cnt - 1), np.nan)\n",
    "\n",
    "        gnum = f\"Grade_Numeric_{y}\"\n",
    "        if gnum in df.columns:\n",
    "            grp = df.groupby([\"LOCATION_ID\", gnum])[RATE]\n",
    "            sg_tot, sg_cnt = grp.transform(\"sum\"), grp.transform(\"count\")\n",
    "            df[f\"School_Grade_Avg_Att_{y}\"] = np.where(sg_cnt > 1, (sg_tot - df[RATE]) / (sg_cnt - 1), np.nan)\n",
    "\n",
    "        df[f\"School_Year_Rank_{y}\"] = df.groupby(\"LOCATION_ID\")[RATE].transform(lambda s: s.rank(method=\"average\", pct=True))\n",
    "        df[f\"District_Year_Rank_{y}\"] = df.groupby(\"DISTRICT_CODE\")[RATE].transform(lambda s: s.rank(method=\"average\", pct=True))\n",
    "        df[f\"Grade_Year_Rank_{y}\"] = df.groupby(gnum)[RATE].transform(lambda s: s.rank(method=\"average\", pct=True)) if gnum in df.columns else np.nan\n",
    "\n",
    "        if gnum in df.columns:\n",
    "            df[f\"School_Grade_Year_Rank_{y}\"] = df.groupby([\"LOCATION_ID\", gnum])[RATE].transform(lambda s: s.rank(method=\"average\", pct=True))\n",
    "\n",
    "        df[f\"Grade_X_Gender_{y}\"] = df[gnum].fillna(-99).astype(int).astype(str) + \"_\" + df[\"STUDENT_GENDER\"].fillna(\"UNK\")\n",
    "        band = pd.cut(df[gnum], bins=[-np.inf, 5, 8, np.inf], labels=[\"K-5\", \"6-8\", \"9-12\"])\n",
    "        df[f\"Econ_X_Grade_Band_{y}\"] = band.astype(str) + \"_\" + df[\"ECONOMIC_CODE\"].astype(str)\n",
    "\n",
    "        active = df[ENROLLED] > 0\n",
    "        schl = df[active].groupby(\"LOCATION_ID\")\n",
    "        df.loc[active, f\"Pct_Econ_Disadv_School_{y}\"] = schl[\"ECONOMIC_CODE\"].transform(lambda s: np.isin(s, list(disadv_codes)).mean())\n",
    "        df.loc[active, f\"Pct_Female_School_{y}\"] = schl[\"STUDENT_GENDER\"].transform(lambda s: (s == female_code).mean())\n",
    "\n",
    "        if gnum in df.columns:\n",
    "            sg = df[active].groupby([\"LOCATION_ID\", gnum])\n",
    "            df.loc[active, f\"Pct_Econ_Disadv_School_Grade_{y}\"] = sg[\"ECONOMIC_CODE\"].transform(lambda s: np.isin(s, list(disadv_codes)).mean())\n",
    "            df.loc[active, f\"Pct_Female_School_Grade_{y}\"] = sg[\"STUDENT_GENDER\"].transform(lambda s: (s == female_code).mean())\n",
    "\n",
    "        grp = df.groupby(\"ETHNIC_CODE\")[RATE]\n",
    "        e_tot, e_cnt = grp.transform(\"sum\"), grp.transform(\"count\")\n",
    "        df[f\"Ethnic_Year_Avg_Att_{y}\"] = np.where(e_cnt > 1, (e_tot - df[RATE]) / (e_cnt - 1), np.nan)\n",
    "\n",
    "\n",
    "    df.drop(columns=[\"_First_Grade_Num\", \"_First_Year\"], inplace=True)\n",
    "    return df\n"
   ]
  },
  {
   "cell_type": "code",
   "execution_count": 18,
   "id": "f8e3201e",
   "metadata": {},
   "outputs": [
    {
     "name": "stderr",
     "output_type": "stream",
     "text": [
      "/var/folders/g7/qvkgm1k12kzfvx8hv5_jqcph0000gn/T/ipykernel_59533/3261284008.py:35: PerformanceWarning: DataFrame is highly fragmented.  This is usually the result of calling `frame.insert` many times, which has poor performance.  Consider joining all columns at once using pd.concat(axis=1) instead. To get a de-fragmented frame, use `newframe = frame.copy()`\n",
      "  df[f\"Max_Absent_Days_Last3_{y}\"] = df[abs_cols].max(axis=1)\n",
      "/var/folders/g7/qvkgm1k12kzfvx8hv5_jqcph0000gn/T/ipykernel_59533/3261284008.py:37: PerformanceWarning: DataFrame is highly fragmented.  This is usually the result of calling `frame.insert` many times, which has poor performance.  Consider joining all columns at once using pd.concat(axis=1) instead. To get a de-fragmented frame, use `newframe = frame.copy()`\n",
      "  df[f\"Grade_Numeric_{y}\"] = df[GRADE_RAW].replace(grade_map).astype(float)\n",
      "/var/folders/g7/qvkgm1k12kzfvx8hv5_jqcph0000gn/T/ipykernel_59533/3261284008.py:39: PerformanceWarning: DataFrame is highly fragmented.  This is usually the result of calling `frame.insert` many times, which has poor performance.  Consider joining all columns at once using pd.concat(axis=1) instead. To get a de-fragmented frame, use `newframe = frame.copy()`\n",
      "  df[f\"Grade_Repeat_Flag_{y}\"] = (df[GRADE_RAW] == df[prev_g]).astype(\"int8\") if prev_g in df.columns else np.nan\n",
      "/var/folders/g7/qvkgm1k12kzfvx8hv5_jqcph0000gn/T/ipykernel_59533/3261284008.py:46: PerformanceWarning: DataFrame is highly fragmented.  This is usually the result of calling `frame.insert` many times, which has poor performance.  Consider joining all columns at once using pd.concat(axis=1) instead. To get a de-fragmented frame, use `newframe = frame.copy()`\n",
      "  df[f\"Grade_Gap_{y}\"] = df[f\"Grade_Numeric_{y}\"] - (df[\"_First_Grade_Num\"] + (y - df[\"_First_Year\"]))\n",
      "/var/folders/g7/qvkgm1k12kzfvx8hv5_jqcph0000gn/T/ipykernel_59533/3261284008.py:50: PerformanceWarning: DataFrame is highly fragmented.  This is usually the result of calling `frame.insert` many times, which has poor performance.  Consider joining all columns at once using pd.concat(axis=1) instead. To get a de-fragmented frame, use `newframe = frame.copy()`\n",
      "  df[f\"School_Year_Avg_Att_{y}\"] = np.where(s_cnt > 1, (s_tot - df[RATE]) / (s_cnt - 1), np.nan)\n",
      "/var/folders/g7/qvkgm1k12kzfvx8hv5_jqcph0000gn/T/ipykernel_59533/3261284008.py:54: PerformanceWarning: DataFrame is highly fragmented.  This is usually the result of calling `frame.insert` many times, which has poor performance.  Consider joining all columns at once using pd.concat(axis=1) instead. To get a de-fragmented frame, use `newframe = frame.copy()`\n",
      "  df[f\"District_Year_Avg_Att_{y}\"] = np.where(d_cnt > 1, (d_tot - df[RATE]) / (d_cnt - 1), np.nan)\n",
      "/var/folders/g7/qvkgm1k12kzfvx8hv5_jqcph0000gn/T/ipykernel_59533/3261284008.py:60: PerformanceWarning: DataFrame is highly fragmented.  This is usually the result of calling `frame.insert` many times, which has poor performance.  Consider joining all columns at once using pd.concat(axis=1) instead. To get a de-fragmented frame, use `newframe = frame.copy()`\n",
      "  df[f\"School_Grade_Avg_Att_{y}\"] = np.where(sg_cnt > 1, (sg_tot - df[RATE]) / (sg_cnt - 1), np.nan)\n",
      "/var/folders/g7/qvkgm1k12kzfvx8hv5_jqcph0000gn/T/ipykernel_59533/3261284008.py:62: PerformanceWarning: DataFrame is highly fragmented.  This is usually the result of calling `frame.insert` many times, which has poor performance.  Consider joining all columns at once using pd.concat(axis=1) instead. To get a de-fragmented frame, use `newframe = frame.copy()`\n",
      "  df[f\"School_Year_Rank_{y}\"] = df.groupby(\"LOCATION_ID\")[RATE].transform(lambda s: s.rank(method=\"average\", pct=True))\n",
      "/var/folders/g7/qvkgm1k12kzfvx8hv5_jqcph0000gn/T/ipykernel_59533/3261284008.py:63: PerformanceWarning: DataFrame is highly fragmented.  This is usually the result of calling `frame.insert` many times, which has poor performance.  Consider joining all columns at once using pd.concat(axis=1) instead. To get a de-fragmented frame, use `newframe = frame.copy()`\n",
      "  df[f\"District_Year_Rank_{y}\"] = df.groupby(\"DISTRICT_CODE\")[RATE].transform(lambda s: s.rank(method=\"average\", pct=True))\n",
      "/var/folders/g7/qvkgm1k12kzfvx8hv5_jqcph0000gn/T/ipykernel_59533/3261284008.py:64: PerformanceWarning: DataFrame is highly fragmented.  This is usually the result of calling `frame.insert` many times, which has poor performance.  Consider joining all columns at once using pd.concat(axis=1) instead. To get a de-fragmented frame, use `newframe = frame.copy()`\n",
      "  df[f\"Grade_Year_Rank_{y}\"] = df.groupby(gnum)[RATE].transform(lambda s: s.rank(method=\"average\", pct=True)) if gnum in df.columns else np.nan\n",
      "/var/folders/g7/qvkgm1k12kzfvx8hv5_jqcph0000gn/T/ipykernel_59533/3261284008.py:67: PerformanceWarning: DataFrame is highly fragmented.  This is usually the result of calling `frame.insert` many times, which has poor performance.  Consider joining all columns at once using pd.concat(axis=1) instead. To get a de-fragmented frame, use `newframe = frame.copy()`\n",
      "  df[f\"School_Grade_Year_Rank_{y}\"] = df.groupby([\"LOCATION_ID\", gnum])[RATE].transform(lambda s: s.rank(method=\"average\", pct=True))\n",
      "/var/folders/g7/qvkgm1k12kzfvx8hv5_jqcph0000gn/T/ipykernel_59533/3261284008.py:69: PerformanceWarning: DataFrame is highly fragmented.  This is usually the result of calling `frame.insert` many times, which has poor performance.  Consider joining all columns at once using pd.concat(axis=1) instead. To get a de-fragmented frame, use `newframe = frame.copy()`\n",
      "  df[f\"Grade_X_Gender_{y}\"] = df[gnum].fillna(-99).astype(int).astype(str) + \"_\" + df[\"STUDENT_GENDER\"].fillna(\"UNK\")\n",
      "/var/folders/g7/qvkgm1k12kzfvx8hv5_jqcph0000gn/T/ipykernel_59533/3261284008.py:71: PerformanceWarning: DataFrame is highly fragmented.  This is usually the result of calling `frame.insert` many times, which has poor performance.  Consider joining all columns at once using pd.concat(axis=1) instead. To get a de-fragmented frame, use `newframe = frame.copy()`\n",
      "  df[f\"Econ_X_Grade_Band_{y}\"] = band.astype(str) + \"_\" + df[\"ECONOMIC_CODE\"].astype(str)\n",
      "/var/folders/g7/qvkgm1k12kzfvx8hv5_jqcph0000gn/T/ipykernel_59533/3261284008.py:75: PerformanceWarning: DataFrame is highly fragmented.  This is usually the result of calling `frame.insert` many times, which has poor performance.  Consider joining all columns at once using pd.concat(axis=1) instead. To get a de-fragmented frame, use `newframe = frame.copy()`\n",
      "  df.loc[active, f\"Pct_Econ_Disadv_School_{y}\"] = schl[\"ECONOMIC_CODE\"].transform(lambda s: np.isin(s, list(disadv_codes)).mean())\n",
      "/var/folders/g7/qvkgm1k12kzfvx8hv5_jqcph0000gn/T/ipykernel_59533/3261284008.py:76: PerformanceWarning: DataFrame is highly fragmented.  This is usually the result of calling `frame.insert` many times, which has poor performance.  Consider joining all columns at once using pd.concat(axis=1) instead. To get a de-fragmented frame, use `newframe = frame.copy()`\n",
      "  df.loc[active, f\"Pct_Female_School_{y}\"] = schl[\"STUDENT_GENDER\"].transform(lambda s: (s == female_code).mean())\n",
      "/var/folders/g7/qvkgm1k12kzfvx8hv5_jqcph0000gn/T/ipykernel_59533/3261284008.py:80: PerformanceWarning: DataFrame is highly fragmented.  This is usually the result of calling `frame.insert` many times, which has poor performance.  Consider joining all columns at once using pd.concat(axis=1) instead. To get a de-fragmented frame, use `newframe = frame.copy()`\n",
      "  df.loc[active, f\"Pct_Econ_Disadv_School_Grade_{y}\"] = sg[\"ECONOMIC_CODE\"].transform(lambda s: np.isin(s, list(disadv_codes)).mean())\n",
      "/var/folders/g7/qvkgm1k12kzfvx8hv5_jqcph0000gn/T/ipykernel_59533/3261284008.py:81: PerformanceWarning: DataFrame is highly fragmented.  This is usually the result of calling `frame.insert` many times, which has poor performance.  Consider joining all columns at once using pd.concat(axis=1) instead. To get a de-fragmented frame, use `newframe = frame.copy()`\n",
      "  df.loc[active, f\"Pct_Female_School_Grade_{y}\"] = sg[\"STUDENT_GENDER\"].transform(lambda s: (s == female_code).mean())\n",
      "/var/folders/g7/qvkgm1k12kzfvx8hv5_jqcph0000gn/T/ipykernel_59533/3261284008.py:85: PerformanceWarning: DataFrame is highly fragmented.  This is usually the result of calling `frame.insert` many times, which has poor performance.  Consider joining all columns at once using pd.concat(axis=1) instead. To get a de-fragmented frame, use `newframe = frame.copy()`\n",
      "  df[f\"Ethnic_Year_Avg_Att_{y}\"] = np.where(e_cnt > 1, (e_tot - df[RATE]) / (e_cnt - 1), np.nan)\n",
      "/var/folders/g7/qvkgm1k12kzfvx8hv5_jqcph0000gn/T/ipykernel_59533/3261284008.py:19: PerformanceWarning: DataFrame is highly fragmented.  This is usually the result of calling `frame.insert` many times, which has poor performance.  Consider joining all columns at once using pd.concat(axis=1) instead. To get a de-fragmented frame, use `newframe = frame.copy()`\n",
      "  df[f\"Unexcused_Rate_{y}\"] = df[UNEXCUSED] / days_enrolled\n",
      "/var/folders/g7/qvkgm1k12kzfvx8hv5_jqcph0000gn/T/ipykernel_59533/3261284008.py:20: PerformanceWarning: DataFrame is highly fragmented.  This is usually the result of calling `frame.insert` many times, which has poor performance.  Consider joining all columns at once using pd.concat(axis=1) instead. To get a de-fragmented frame, use `newframe = frame.copy()`\n",
      "  df[f\"Excused_Rate_{y}\"] = 1.0 - df[RATE] - df[f\"Unexcused_Rate_{y}\"]\n",
      "/var/folders/g7/qvkgm1k12kzfvx8hv5_jqcph0000gn/T/ipykernel_59533/3261284008.py:21: PerformanceWarning: DataFrame is highly fragmented.  This is usually the result of calling `frame.insert` many times, which has poor performance.  Consider joining all columns at once using pd.concat(axis=1) instead. To get a de-fragmented frame, use `newframe = frame.copy()`\n",
      "  df[f\"Total_Absent_Days_{y}\"] = df[ENROLLED] - df[PRESENT]\n",
      "/var/folders/g7/qvkgm1k12kzfvx8hv5_jqcph0000gn/T/ipykernel_59533/3261284008.py:22: PerformanceWarning: DataFrame is highly fragmented.  This is usually the result of calling `frame.insert` many times, which has poor performance.  Consider joining all columns at once using pd.concat(axis=1) instead. To get a de-fragmented frame, use `newframe = frame.copy()`\n",
      "  df[f\"Chronic_Absent_Flag_{y}\"] = (df[RATE] < chronic_thr).astype(\"int8\")\n",
      "/var/folders/g7/qvkgm1k12kzfvx8hv5_jqcph0000gn/T/ipykernel_59533/3261284008.py:26: PerformanceWarning: DataFrame is highly fragmented.  This is usually the result of calling `frame.insert` many times, which has poor performance.  Consider joining all columns at once using pd.concat(axis=1) instead. To get a de-fragmented frame, use `newframe = frame.copy()`\n",
      "  df[f\"Att_Rate_Prev1_{y}\"] = df.get(prev1)\n",
      "/var/folders/g7/qvkgm1k12kzfvx8hv5_jqcph0000gn/T/ipykernel_59533/3261284008.py:27: PerformanceWarning: DataFrame is highly fragmented.  This is usually the result of calling `frame.insert` many times, which has poor performance.  Consider joining all columns at once using pd.concat(axis=1) instead. To get a de-fragmented frame, use `newframe = frame.copy()`\n",
      "  df[f\"Att_Rate_Prev2_{y}\"] = df.get(prev2)\n",
      "/var/folders/g7/qvkgm1k12kzfvx8hv5_jqcph0000gn/T/ipykernel_59533/3261284008.py:28: PerformanceWarning: DataFrame is highly fragmented.  This is usually the result of calling `frame.insert` many times, which has poor performance.  Consider joining all columns at once using pd.concat(axis=1) instead. To get a de-fragmented frame, use `newframe = frame.copy()`\n",
      "  df[f\"Delta_Attendance_{y}\"] = df[RATE] - df[f\"Att_Rate_Prev1_{y}\"]\n",
      "/var/folders/g7/qvkgm1k12kzfvx8hv5_jqcph0000gn/T/ipykernel_59533/3261284008.py:31: PerformanceWarning: DataFrame is highly fragmented.  This is usually the result of calling `frame.insert` many times, which has poor performance.  Consider joining all columns at once using pd.concat(axis=1) instead. To get a de-fragmented frame, use `newframe = frame.copy()`\n",
      "  df[f\"Att_Rate_Mean_3yr_{y}\"] = df[mean_cols].mean(axis=1)\n",
      "/var/folders/g7/qvkgm1k12kzfvx8hv5_jqcph0000gn/T/ipykernel_59533/3261284008.py:32: PerformanceWarning: DataFrame is highly fragmented.  This is usually the result of calling `frame.insert` many times, which has poor performance.  Consider joining all columns at once using pd.concat(axis=1) instead. To get a de-fragmented frame, use `newframe = frame.copy()`\n",
      "  df[f\"Att_Rate_Std_Last3_{y}\"] = df[mean_cols].std(axis=1, ddof=1) # Sample Standard Deviation\n",
      "/var/folders/g7/qvkgm1k12kzfvx8hv5_jqcph0000gn/T/ipykernel_59533/3261284008.py:35: PerformanceWarning: DataFrame is highly fragmented.  This is usually the result of calling `frame.insert` many times, which has poor performance.  Consider joining all columns at once using pd.concat(axis=1) instead. To get a de-fragmented frame, use `newframe = frame.copy()`\n",
      "  df[f\"Max_Absent_Days_Last3_{y}\"] = df[abs_cols].max(axis=1)\n",
      "/var/folders/g7/qvkgm1k12kzfvx8hv5_jqcph0000gn/T/ipykernel_59533/3261284008.py:37: PerformanceWarning: DataFrame is highly fragmented.  This is usually the result of calling `frame.insert` many times, which has poor performance.  Consider joining all columns at once using pd.concat(axis=1) instead. To get a de-fragmented frame, use `newframe = frame.copy()`\n",
      "  df[f\"Grade_Numeric_{y}\"] = df[GRADE_RAW].replace(grade_map).astype(float)\n",
      "/var/folders/g7/qvkgm1k12kzfvx8hv5_jqcph0000gn/T/ipykernel_59533/3261284008.py:39: PerformanceWarning: DataFrame is highly fragmented.  This is usually the result of calling `frame.insert` many times, which has poor performance.  Consider joining all columns at once using pd.concat(axis=1) instead. To get a de-fragmented frame, use `newframe = frame.copy()`\n",
      "  df[f\"Grade_Repeat_Flag_{y}\"] = (df[GRADE_RAW] == df[prev_g]).astype(\"int8\") if prev_g in df.columns else np.nan\n",
      "/var/folders/g7/qvkgm1k12kzfvx8hv5_jqcph0000gn/T/ipykernel_59533/3261284008.py:46: PerformanceWarning: DataFrame is highly fragmented.  This is usually the result of calling `frame.insert` many times, which has poor performance.  Consider joining all columns at once using pd.concat(axis=1) instead. To get a de-fragmented frame, use `newframe = frame.copy()`\n",
      "  df[f\"Grade_Gap_{y}\"] = df[f\"Grade_Numeric_{y}\"] - (df[\"_First_Grade_Num\"] + (y - df[\"_First_Year\"]))\n",
      "/var/folders/g7/qvkgm1k12kzfvx8hv5_jqcph0000gn/T/ipykernel_59533/3261284008.py:50: PerformanceWarning: DataFrame is highly fragmented.  This is usually the result of calling `frame.insert` many times, which has poor performance.  Consider joining all columns at once using pd.concat(axis=1) instead. To get a de-fragmented frame, use `newframe = frame.copy()`\n",
      "  df[f\"School_Year_Avg_Att_{y}\"] = np.where(s_cnt > 1, (s_tot - df[RATE]) / (s_cnt - 1), np.nan)\n",
      "/var/folders/g7/qvkgm1k12kzfvx8hv5_jqcph0000gn/T/ipykernel_59533/3261284008.py:54: PerformanceWarning: DataFrame is highly fragmented.  This is usually the result of calling `frame.insert` many times, which has poor performance.  Consider joining all columns at once using pd.concat(axis=1) instead. To get a de-fragmented frame, use `newframe = frame.copy()`\n",
      "  df[f\"District_Year_Avg_Att_{y}\"] = np.where(d_cnt > 1, (d_tot - df[RATE]) / (d_cnt - 1), np.nan)\n",
      "/var/folders/g7/qvkgm1k12kzfvx8hv5_jqcph0000gn/T/ipykernel_59533/3261284008.py:60: PerformanceWarning: DataFrame is highly fragmented.  This is usually the result of calling `frame.insert` many times, which has poor performance.  Consider joining all columns at once using pd.concat(axis=1) instead. To get a de-fragmented frame, use `newframe = frame.copy()`\n",
      "  df[f\"School_Grade_Avg_Att_{y}\"] = np.where(sg_cnt > 1, (sg_tot - df[RATE]) / (sg_cnt - 1), np.nan)\n",
      "/var/folders/g7/qvkgm1k12kzfvx8hv5_jqcph0000gn/T/ipykernel_59533/3261284008.py:62: PerformanceWarning: DataFrame is highly fragmented.  This is usually the result of calling `frame.insert` many times, which has poor performance.  Consider joining all columns at once using pd.concat(axis=1) instead. To get a de-fragmented frame, use `newframe = frame.copy()`\n",
      "  df[f\"School_Year_Rank_{y}\"] = df.groupby(\"LOCATION_ID\")[RATE].transform(lambda s: s.rank(method=\"average\", pct=True))\n",
      "/var/folders/g7/qvkgm1k12kzfvx8hv5_jqcph0000gn/T/ipykernel_59533/3261284008.py:63: PerformanceWarning: DataFrame is highly fragmented.  This is usually the result of calling `frame.insert` many times, which has poor performance.  Consider joining all columns at once using pd.concat(axis=1) instead. To get a de-fragmented frame, use `newframe = frame.copy()`\n",
      "  df[f\"District_Year_Rank_{y}\"] = df.groupby(\"DISTRICT_CODE\")[RATE].transform(lambda s: s.rank(method=\"average\", pct=True))\n",
      "/var/folders/g7/qvkgm1k12kzfvx8hv5_jqcph0000gn/T/ipykernel_59533/3261284008.py:64: PerformanceWarning: DataFrame is highly fragmented.  This is usually the result of calling `frame.insert` many times, which has poor performance.  Consider joining all columns at once using pd.concat(axis=1) instead. To get a de-fragmented frame, use `newframe = frame.copy()`\n",
      "  df[f\"Grade_Year_Rank_{y}\"] = df.groupby(gnum)[RATE].transform(lambda s: s.rank(method=\"average\", pct=True)) if gnum in df.columns else np.nan\n",
      "/var/folders/g7/qvkgm1k12kzfvx8hv5_jqcph0000gn/T/ipykernel_59533/3261284008.py:67: PerformanceWarning: DataFrame is highly fragmented.  This is usually the result of calling `frame.insert` many times, which has poor performance.  Consider joining all columns at once using pd.concat(axis=1) instead. To get a de-fragmented frame, use `newframe = frame.copy()`\n",
      "  df[f\"School_Grade_Year_Rank_{y}\"] = df.groupby([\"LOCATION_ID\", gnum])[RATE].transform(lambda s: s.rank(method=\"average\", pct=True))\n",
      "/var/folders/g7/qvkgm1k12kzfvx8hv5_jqcph0000gn/T/ipykernel_59533/3261284008.py:69: PerformanceWarning: DataFrame is highly fragmented.  This is usually the result of calling `frame.insert` many times, which has poor performance.  Consider joining all columns at once using pd.concat(axis=1) instead. To get a de-fragmented frame, use `newframe = frame.copy()`\n",
      "  df[f\"Grade_X_Gender_{y}\"] = df[gnum].fillna(-99).astype(int).astype(str) + \"_\" + df[\"STUDENT_GENDER\"].fillna(\"UNK\")\n",
      "/var/folders/g7/qvkgm1k12kzfvx8hv5_jqcph0000gn/T/ipykernel_59533/3261284008.py:71: PerformanceWarning: DataFrame is highly fragmented.  This is usually the result of calling `frame.insert` many times, which has poor performance.  Consider joining all columns at once using pd.concat(axis=1) instead. To get a de-fragmented frame, use `newframe = frame.copy()`\n",
      "  df[f\"Econ_X_Grade_Band_{y}\"] = band.astype(str) + \"_\" + df[\"ECONOMIC_CODE\"].astype(str)\n",
      "/var/folders/g7/qvkgm1k12kzfvx8hv5_jqcph0000gn/T/ipykernel_59533/3261284008.py:75: PerformanceWarning: DataFrame is highly fragmented.  This is usually the result of calling `frame.insert` many times, which has poor performance.  Consider joining all columns at once using pd.concat(axis=1) instead. To get a de-fragmented frame, use `newframe = frame.copy()`\n",
      "  df.loc[active, f\"Pct_Econ_Disadv_School_{y}\"] = schl[\"ECONOMIC_CODE\"].transform(lambda s: np.isin(s, list(disadv_codes)).mean())\n",
      "/var/folders/g7/qvkgm1k12kzfvx8hv5_jqcph0000gn/T/ipykernel_59533/3261284008.py:76: PerformanceWarning: DataFrame is highly fragmented.  This is usually the result of calling `frame.insert` many times, which has poor performance.  Consider joining all columns at once using pd.concat(axis=1) instead. To get a de-fragmented frame, use `newframe = frame.copy()`\n",
      "  df.loc[active, f\"Pct_Female_School_{y}\"] = schl[\"STUDENT_GENDER\"].transform(lambda s: (s == female_code).mean())\n",
      "/var/folders/g7/qvkgm1k12kzfvx8hv5_jqcph0000gn/T/ipykernel_59533/3261284008.py:80: PerformanceWarning: DataFrame is highly fragmented.  This is usually the result of calling `frame.insert` many times, which has poor performance.  Consider joining all columns at once using pd.concat(axis=1) instead. To get a de-fragmented frame, use `newframe = frame.copy()`\n",
      "  df.loc[active, f\"Pct_Econ_Disadv_School_Grade_{y}\"] = sg[\"ECONOMIC_CODE\"].transform(lambda s: np.isin(s, list(disadv_codes)).mean())\n",
      "/var/folders/g7/qvkgm1k12kzfvx8hv5_jqcph0000gn/T/ipykernel_59533/3261284008.py:81: PerformanceWarning: DataFrame is highly fragmented.  This is usually the result of calling `frame.insert` many times, which has poor performance.  Consider joining all columns at once using pd.concat(axis=1) instead. To get a de-fragmented frame, use `newframe = frame.copy()`\n",
      "  df.loc[active, f\"Pct_Female_School_Grade_{y}\"] = sg[\"STUDENT_GENDER\"].transform(lambda s: (s == female_code).mean())\n",
      "/var/folders/g7/qvkgm1k12kzfvx8hv5_jqcph0000gn/T/ipykernel_59533/3261284008.py:85: PerformanceWarning: DataFrame is highly fragmented.  This is usually the result of calling `frame.insert` many times, which has poor performance.  Consider joining all columns at once using pd.concat(axis=1) instead. To get a de-fragmented frame, use `newframe = frame.copy()`\n",
      "  df[f\"Ethnic_Year_Avg_Att_{y}\"] = np.where(e_cnt > 1, (e_tot - df[RATE]) / (e_cnt - 1), np.nan)\n",
      "/var/folders/g7/qvkgm1k12kzfvx8hv5_jqcph0000gn/T/ipykernel_59533/3261284008.py:19: PerformanceWarning: DataFrame is highly fragmented.  This is usually the result of calling `frame.insert` many times, which has poor performance.  Consider joining all columns at once using pd.concat(axis=1) instead. To get a de-fragmented frame, use `newframe = frame.copy()`\n",
      "  df[f\"Unexcused_Rate_{y}\"] = df[UNEXCUSED] / days_enrolled\n",
      "/var/folders/g7/qvkgm1k12kzfvx8hv5_jqcph0000gn/T/ipykernel_59533/3261284008.py:20: PerformanceWarning: DataFrame is highly fragmented.  This is usually the result of calling `frame.insert` many times, which has poor performance.  Consider joining all columns at once using pd.concat(axis=1) instead. To get a de-fragmented frame, use `newframe = frame.copy()`\n",
      "  df[f\"Excused_Rate_{y}\"] = 1.0 - df[RATE] - df[f\"Unexcused_Rate_{y}\"]\n",
      "/var/folders/g7/qvkgm1k12kzfvx8hv5_jqcph0000gn/T/ipykernel_59533/3261284008.py:21: PerformanceWarning: DataFrame is highly fragmented.  This is usually the result of calling `frame.insert` many times, which has poor performance.  Consider joining all columns at once using pd.concat(axis=1) instead. To get a de-fragmented frame, use `newframe = frame.copy()`\n",
      "  df[f\"Total_Absent_Days_{y}\"] = df[ENROLLED] - df[PRESENT]\n",
      "/var/folders/g7/qvkgm1k12kzfvx8hv5_jqcph0000gn/T/ipykernel_59533/3261284008.py:22: PerformanceWarning: DataFrame is highly fragmented.  This is usually the result of calling `frame.insert` many times, which has poor performance.  Consider joining all columns at once using pd.concat(axis=1) instead. To get a de-fragmented frame, use `newframe = frame.copy()`\n",
      "  df[f\"Chronic_Absent_Flag_{y}\"] = (df[RATE] < chronic_thr).astype(\"int8\")\n",
      "/var/folders/g7/qvkgm1k12kzfvx8hv5_jqcph0000gn/T/ipykernel_59533/3261284008.py:26: PerformanceWarning: DataFrame is highly fragmented.  This is usually the result of calling `frame.insert` many times, which has poor performance.  Consider joining all columns at once using pd.concat(axis=1) instead. To get a de-fragmented frame, use `newframe = frame.copy()`\n",
      "  df[f\"Att_Rate_Prev1_{y}\"] = df.get(prev1)\n",
      "/var/folders/g7/qvkgm1k12kzfvx8hv5_jqcph0000gn/T/ipykernel_59533/3261284008.py:27: PerformanceWarning: DataFrame is highly fragmented.  This is usually the result of calling `frame.insert` many times, which has poor performance.  Consider joining all columns at once using pd.concat(axis=1) instead. To get a de-fragmented frame, use `newframe = frame.copy()`\n",
      "  df[f\"Att_Rate_Prev2_{y}\"] = df.get(prev2)\n",
      "/var/folders/g7/qvkgm1k12kzfvx8hv5_jqcph0000gn/T/ipykernel_59533/3261284008.py:28: PerformanceWarning: DataFrame is highly fragmented.  This is usually the result of calling `frame.insert` many times, which has poor performance.  Consider joining all columns at once using pd.concat(axis=1) instead. To get a de-fragmented frame, use `newframe = frame.copy()`\n",
      "  df[f\"Delta_Attendance_{y}\"] = df[RATE] - df[f\"Att_Rate_Prev1_{y}\"]\n",
      "/var/folders/g7/qvkgm1k12kzfvx8hv5_jqcph0000gn/T/ipykernel_59533/3261284008.py:31: PerformanceWarning: DataFrame is highly fragmented.  This is usually the result of calling `frame.insert` many times, which has poor performance.  Consider joining all columns at once using pd.concat(axis=1) instead. To get a de-fragmented frame, use `newframe = frame.copy()`\n",
      "  df[f\"Att_Rate_Mean_3yr_{y}\"] = df[mean_cols].mean(axis=1)\n",
      "/var/folders/g7/qvkgm1k12kzfvx8hv5_jqcph0000gn/T/ipykernel_59533/3261284008.py:32: PerformanceWarning: DataFrame is highly fragmented.  This is usually the result of calling `frame.insert` many times, which has poor performance.  Consider joining all columns at once using pd.concat(axis=1) instead. To get a de-fragmented frame, use `newframe = frame.copy()`\n",
      "  df[f\"Att_Rate_Std_Last3_{y}\"] = df[mean_cols].std(axis=1, ddof=1) # Sample Standard Deviation\n",
      "/var/folders/g7/qvkgm1k12kzfvx8hv5_jqcph0000gn/T/ipykernel_59533/3261284008.py:35: PerformanceWarning: DataFrame is highly fragmented.  This is usually the result of calling `frame.insert` many times, which has poor performance.  Consider joining all columns at once using pd.concat(axis=1) instead. To get a de-fragmented frame, use `newframe = frame.copy()`\n",
      "  df[f\"Max_Absent_Days_Last3_{y}\"] = df[abs_cols].max(axis=1)\n",
      "/var/folders/g7/qvkgm1k12kzfvx8hv5_jqcph0000gn/T/ipykernel_59533/3261284008.py:37: PerformanceWarning: DataFrame is highly fragmented.  This is usually the result of calling `frame.insert` many times, which has poor performance.  Consider joining all columns at once using pd.concat(axis=1) instead. To get a de-fragmented frame, use `newframe = frame.copy()`\n",
      "  df[f\"Grade_Numeric_{y}\"] = df[GRADE_RAW].replace(grade_map).astype(float)\n",
      "/var/folders/g7/qvkgm1k12kzfvx8hv5_jqcph0000gn/T/ipykernel_59533/3261284008.py:39: PerformanceWarning: DataFrame is highly fragmented.  This is usually the result of calling `frame.insert` many times, which has poor performance.  Consider joining all columns at once using pd.concat(axis=1) instead. To get a de-fragmented frame, use `newframe = frame.copy()`\n",
      "  df[f\"Grade_Repeat_Flag_{y}\"] = (df[GRADE_RAW] == df[prev_g]).astype(\"int8\") if prev_g in df.columns else np.nan\n",
      "/var/folders/g7/qvkgm1k12kzfvx8hv5_jqcph0000gn/T/ipykernel_59533/3261284008.py:46: PerformanceWarning: DataFrame is highly fragmented.  This is usually the result of calling `frame.insert` many times, which has poor performance.  Consider joining all columns at once using pd.concat(axis=1) instead. To get a de-fragmented frame, use `newframe = frame.copy()`\n",
      "  df[f\"Grade_Gap_{y}\"] = df[f\"Grade_Numeric_{y}\"] - (df[\"_First_Grade_Num\"] + (y - df[\"_First_Year\"]))\n",
      "/var/folders/g7/qvkgm1k12kzfvx8hv5_jqcph0000gn/T/ipykernel_59533/3261284008.py:50: PerformanceWarning: DataFrame is highly fragmented.  This is usually the result of calling `frame.insert` many times, which has poor performance.  Consider joining all columns at once using pd.concat(axis=1) instead. To get a de-fragmented frame, use `newframe = frame.copy()`\n",
      "  df[f\"School_Year_Avg_Att_{y}\"] = np.where(s_cnt > 1, (s_tot - df[RATE]) / (s_cnt - 1), np.nan)\n",
      "/var/folders/g7/qvkgm1k12kzfvx8hv5_jqcph0000gn/T/ipykernel_59533/3261284008.py:54: PerformanceWarning: DataFrame is highly fragmented.  This is usually the result of calling `frame.insert` many times, which has poor performance.  Consider joining all columns at once using pd.concat(axis=1) instead. To get a de-fragmented frame, use `newframe = frame.copy()`\n",
      "  df[f\"District_Year_Avg_Att_{y}\"] = np.where(d_cnt > 1, (d_tot - df[RATE]) / (d_cnt - 1), np.nan)\n",
      "/var/folders/g7/qvkgm1k12kzfvx8hv5_jqcph0000gn/T/ipykernel_59533/3261284008.py:60: PerformanceWarning: DataFrame is highly fragmented.  This is usually the result of calling `frame.insert` many times, which has poor performance.  Consider joining all columns at once using pd.concat(axis=1) instead. To get a de-fragmented frame, use `newframe = frame.copy()`\n",
      "  df[f\"School_Grade_Avg_Att_{y}\"] = np.where(sg_cnt > 1, (sg_tot - df[RATE]) / (sg_cnt - 1), np.nan)\n",
      "/var/folders/g7/qvkgm1k12kzfvx8hv5_jqcph0000gn/T/ipykernel_59533/3261284008.py:62: PerformanceWarning: DataFrame is highly fragmented.  This is usually the result of calling `frame.insert` many times, which has poor performance.  Consider joining all columns at once using pd.concat(axis=1) instead. To get a de-fragmented frame, use `newframe = frame.copy()`\n",
      "  df[f\"School_Year_Rank_{y}\"] = df.groupby(\"LOCATION_ID\")[RATE].transform(lambda s: s.rank(method=\"average\", pct=True))\n",
      "/var/folders/g7/qvkgm1k12kzfvx8hv5_jqcph0000gn/T/ipykernel_59533/3261284008.py:63: PerformanceWarning: DataFrame is highly fragmented.  This is usually the result of calling `frame.insert` many times, which has poor performance.  Consider joining all columns at once using pd.concat(axis=1) instead. To get a de-fragmented frame, use `newframe = frame.copy()`\n",
      "  df[f\"District_Year_Rank_{y}\"] = df.groupby(\"DISTRICT_CODE\")[RATE].transform(lambda s: s.rank(method=\"average\", pct=True))\n",
      "/var/folders/g7/qvkgm1k12kzfvx8hv5_jqcph0000gn/T/ipykernel_59533/3261284008.py:64: PerformanceWarning: DataFrame is highly fragmented.  This is usually the result of calling `frame.insert` many times, which has poor performance.  Consider joining all columns at once using pd.concat(axis=1) instead. To get a de-fragmented frame, use `newframe = frame.copy()`\n",
      "  df[f\"Grade_Year_Rank_{y}\"] = df.groupby(gnum)[RATE].transform(lambda s: s.rank(method=\"average\", pct=True)) if gnum in df.columns else np.nan\n",
      "/var/folders/g7/qvkgm1k12kzfvx8hv5_jqcph0000gn/T/ipykernel_59533/3261284008.py:67: PerformanceWarning: DataFrame is highly fragmented.  This is usually the result of calling `frame.insert` many times, which has poor performance.  Consider joining all columns at once using pd.concat(axis=1) instead. To get a de-fragmented frame, use `newframe = frame.copy()`\n",
      "  df[f\"School_Grade_Year_Rank_{y}\"] = df.groupby([\"LOCATION_ID\", gnum])[RATE].transform(lambda s: s.rank(method=\"average\", pct=True))\n",
      "/var/folders/g7/qvkgm1k12kzfvx8hv5_jqcph0000gn/T/ipykernel_59533/3261284008.py:69: PerformanceWarning: DataFrame is highly fragmented.  This is usually the result of calling `frame.insert` many times, which has poor performance.  Consider joining all columns at once using pd.concat(axis=1) instead. To get a de-fragmented frame, use `newframe = frame.copy()`\n",
      "  df[f\"Grade_X_Gender_{y}\"] = df[gnum].fillna(-99).astype(int).astype(str) + \"_\" + df[\"STUDENT_GENDER\"].fillna(\"UNK\")\n",
      "/var/folders/g7/qvkgm1k12kzfvx8hv5_jqcph0000gn/T/ipykernel_59533/3261284008.py:71: PerformanceWarning: DataFrame is highly fragmented.  This is usually the result of calling `frame.insert` many times, which has poor performance.  Consider joining all columns at once using pd.concat(axis=1) instead. To get a de-fragmented frame, use `newframe = frame.copy()`\n",
      "  df[f\"Econ_X_Grade_Band_{y}\"] = band.astype(str) + \"_\" + df[\"ECONOMIC_CODE\"].astype(str)\n",
      "/var/folders/g7/qvkgm1k12kzfvx8hv5_jqcph0000gn/T/ipykernel_59533/3261284008.py:75: PerformanceWarning: DataFrame is highly fragmented.  This is usually the result of calling `frame.insert` many times, which has poor performance.  Consider joining all columns at once using pd.concat(axis=1) instead. To get a de-fragmented frame, use `newframe = frame.copy()`\n",
      "  df.loc[active, f\"Pct_Econ_Disadv_School_{y}\"] = schl[\"ECONOMIC_CODE\"].transform(lambda s: np.isin(s, list(disadv_codes)).mean())\n",
      "/var/folders/g7/qvkgm1k12kzfvx8hv5_jqcph0000gn/T/ipykernel_59533/3261284008.py:76: PerformanceWarning: DataFrame is highly fragmented.  This is usually the result of calling `frame.insert` many times, which has poor performance.  Consider joining all columns at once using pd.concat(axis=1) instead. To get a de-fragmented frame, use `newframe = frame.copy()`\n",
      "  df.loc[active, f\"Pct_Female_School_{y}\"] = schl[\"STUDENT_GENDER\"].transform(lambda s: (s == female_code).mean())\n",
      "/var/folders/g7/qvkgm1k12kzfvx8hv5_jqcph0000gn/T/ipykernel_59533/3261284008.py:80: PerformanceWarning: DataFrame is highly fragmented.  This is usually the result of calling `frame.insert` many times, which has poor performance.  Consider joining all columns at once using pd.concat(axis=1) instead. To get a de-fragmented frame, use `newframe = frame.copy()`\n",
      "  df.loc[active, f\"Pct_Econ_Disadv_School_Grade_{y}\"] = sg[\"ECONOMIC_CODE\"].transform(lambda s: np.isin(s, list(disadv_codes)).mean())\n",
      "/var/folders/g7/qvkgm1k12kzfvx8hv5_jqcph0000gn/T/ipykernel_59533/3261284008.py:81: PerformanceWarning: DataFrame is highly fragmented.  This is usually the result of calling `frame.insert` many times, which has poor performance.  Consider joining all columns at once using pd.concat(axis=1) instead. To get a de-fragmented frame, use `newframe = frame.copy()`\n",
      "  df.loc[active, f\"Pct_Female_School_Grade_{y}\"] = sg[\"STUDENT_GENDER\"].transform(lambda s: (s == female_code).mean())\n",
      "/var/folders/g7/qvkgm1k12kzfvx8hv5_jqcph0000gn/T/ipykernel_59533/3261284008.py:85: PerformanceWarning: DataFrame is highly fragmented.  This is usually the result of calling `frame.insert` many times, which has poor performance.  Consider joining all columns at once using pd.concat(axis=1) instead. To get a de-fragmented frame, use `newframe = frame.copy()`\n",
      "  df[f\"Ethnic_Year_Avg_Att_{y}\"] = np.where(e_cnt > 1, (e_tot - df[RATE]) / (e_cnt - 1), np.nan)\n"
     ]
    }
   ],
   "source": [
    "training_df = build_features(training_df)"
   ]
  },
  {
   "cell_type": "code",
   "execution_count": 20,
   "id": "f5127206",
   "metadata": {},
   "outputs": [],
   "source": [
    "training_df.to_parquet(config.PROCESSED_DATA_DIR / 'FinalTrainingData.parquet', index=False)"
   ]
  }
 ],
 "metadata": {
  "kernelspec": {
   "display_name": "Model-Training",
   "language": "python",
   "name": "python3"
  },
  "language_info": {
   "codemirror_mode": {
    "name": "ipython",
    "version": 3
   },
   "file_extension": ".py",
   "mimetype": "text/x-python",
   "name": "python",
   "nbconvert_exporter": "python",
   "pygments_lexer": "ipython3",
   "version": "3.13.4"
  }
 },
 "nbformat": 4,
 "nbformat_minor": 5
}
